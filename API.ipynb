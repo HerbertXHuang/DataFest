{
 "cells": [
  {
   "cell_type": "markdown",
   "metadata": {},
   "source": [
    "<h3>Explanation</h3>\n",
    "This API does not require the API key of MarineTraffic website.<br>\n",
    "It uses the User-Agent of Chrome Developer Tools\n",
    "<br>\n",
    "Support All pages of Search and All kinds of result types ('Azov')\n",
    "<br>\n",
    "Cons: Local Time formatting for Port result type<br>\n",
    "May not work for some moment, will return message tells to try again\n",
    "<br>\n",
    "Try not to search something like 'SHANGHAI', as it will have hundreds records and may cause the website to ban you temporarily"
   ]
  },
  {
   "cell_type": "code",
   "execution_count": 19,
   "metadata": {
    "collapsed": true
   },
   "outputs": [],
   "source": [
    "import requests\n",
    "from bs4 import BeautifulSoup\n",
    "\n",
    "class MarineTraffic():\n",
    "    def __init__(self):\n",
    "        self.url = 'https://www.marinetraffic.com'\n",
    "        self.headers = {'User-Agent': 'Mozilla/5.0 (Macintosh; Intel Mac OS X 10_11_6) AppleWebKit/537.36 (KHTML, like Gecko) Chrome/64.0.3282.186 Safari/537.36'}\n",
    "\n",
    "    def Search(self, keyword):        \n",
    "        myurl = '/en/ais/index/search/all/keyword:%s'%keyword.replace(' ', '%20')      \n",
    "        res = self.Link2Results(myurl)       \n",
    "        output = list(map(lambda x: (x[0], self.Link2Details(x[1], kind = x[0][1])), res))\n",
    "        print('%s results found for keyword: %s'%(len(output), keyword))\n",
    "        return output\n",
    "\n",
    "    def Link2Results(self, myurl):\n",
    "        myurl = self.url + myurl\n",
    "        response = requests.get(myurl, headers = self.headers)\n",
    "        data = BeautifulSoup(response.content, 'lxml')\n",
    "\n",
    "        search_result = data.find_all('table', {'class': 'table table-hover text-left'})[0]\n",
    "        search_links = list(map(lambda x: x.get('href'), search_result.find_all('a', {'class': \"search_index_link\"})))\n",
    "        temp = search_result.get_text().splitlines()\n",
    "        temp = [x for x in temp if x!='']\n",
    "        search_titles = []\n",
    "        for i in range(3, len(temp)-2, 3):\n",
    "            search_titles.append([temp[i].strip(), temp[i+1].strip(), temp[i+1].strip()])\n",
    "\n",
    "        res = list(zip(search_titles, search_links))        \n",
    "        next_page = data.find_all('span', {'class': 'next'})\n",
    "        if next_page and next_page[0].find_all('a') and next_page[0].find_all('a')[0].get('href'):\n",
    "            return res + self.Link2Results(next_page[0].find_all('a')[0].get('href'))\n",
    "        else:\n",
    "            return res\n",
    "      \n",
    "    def Link2Details(self, myurl, kind):        \n",
    "        myurl = self.url + myurl\n",
    "        response = requests.get(myurl, headers = self.headers)\n",
    "        data = BeautifulSoup(response.content, 'lxml')\n",
    "        \n",
    "        if kind in ['Photographer']:\n",
    "            return ['Photos Not Shown']\n",
    "        elif kind in ['Station']:\n",
    "            temp = data.find_all('div', {'class': \"bg-info bg-light padding-10 radius-8 text-left\"})\n",
    "        elif kind in ['Vessel', 'Callsign', 'Light', 'Exname', 'IMO number', 'MMSI number', 'Port']:\n",
    "            temp = data.find_all('div', {'class': 'bg-info bg-light padding-10 radius-4 text-left'})\n",
    "        else:\n",
    "            return ['Result Type Not Available']\n",
    "\n",
    "        try:\n",
    "            temp = temp[0].get_text(separator = '').splitlines()\n",
    "            temp = [x for x in temp if x!='']\n",
    "        except:\n",
    "            return ['Information Not Available Now, Please Try Again']\n",
    "\n",
    "        if kind == 'Port' and 'Show on Map' in temp:\n",
    "            temp.remove('Show on Map')\n",
    "\n",
    "        details = []\n",
    "        for i in range(0, len(temp)-1, 2):\n",
    "            details.append(temp[i] + temp[i+1])\n",
    "        return details"
   ]
  },
  {
   "cell_type": "code",
   "execution_count": null,
   "metadata": {
    "collapsed": true
   },
   "outputs": [],
   "source": [
    "import virtualenv"
   ]
  }
 ],
 "metadata": {
  "kernelspec": {
   "display_name": "Python 3",
   "language": "python",
   "name": "python3"
  },
  "language_info": {
   "codemirror_mode": {
    "name": "ipython",
    "version": 3
   },
   "file_extension": ".py",
   "mimetype": "text/x-python",
   "name": "python",
   "nbconvert_exporter": "python",
   "pygments_lexer": "ipython3",
   "version": "3.6.3"
  }
 },
 "nbformat": 4,
 "nbformat_minor": 2
}
